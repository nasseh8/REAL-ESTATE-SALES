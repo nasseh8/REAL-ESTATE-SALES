{
 "cells": [
  {
   "cell_type": "code",
   "execution_count": 1,
   "id": "db37449a-6a63-42b7-bf6e-c36fd922680a",
   "metadata": {},
   "outputs": [],
   "source": [
    "import pandas as pd\n",
    "import numpy as np\n",
    "import seaborn as sb\n",
    "import matplotlib.pyplot as plt"
   ]
  },
  {
   "cell_type": "code",
   "execution_count": 2,
   "id": "e4e8ab30-cf0c-477f-aba9-e52de7b0ff9f",
   "metadata": {},
   "outputs": [],
   "source": [
    "est=pd.read_csv('Real_Estate_Sales_2001-2020_GL.csv')"
   ]
  },
  {
   "cell_type": "code",
   "execution_count": 3,
   "id": "0a1b87c5-c763-4335-a830-cc084f92c88c",
   "metadata": {},
   "outputs": [
    {
     "data": {
      "text/html": [
       "<div>\n",
       "<style scoped>\n",
       "    .dataframe tbody tr th:only-of-type {\n",
       "        vertical-align: middle;\n",
       "    }\n",
       "\n",
       "    .dataframe tbody tr th {\n",
       "        vertical-align: top;\n",
       "    }\n",
       "\n",
       "    .dataframe thead th {\n",
       "        text-align: right;\n",
       "    }\n",
       "</style>\n",
       "<table border=\"1\" class=\"dataframe\">\n",
       "  <thead>\n",
       "    <tr style=\"text-align: right;\">\n",
       "      <th></th>\n",
       "      <th>Serial Number</th>\n",
       "      <th>List Year</th>\n",
       "      <th>Date Recorded</th>\n",
       "      <th>Town</th>\n",
       "      <th>Assessed Value</th>\n",
       "      <th>Sale Amount</th>\n",
       "      <th>Sales Ratio</th>\n",
       "      <th>Property Type</th>\n",
       "      <th>Residential Type</th>\n",
       "      <th>Years until sold</th>\n",
       "    </tr>\n",
       "  </thead>\n",
       "  <tbody>\n",
       "    <tr>\n",
       "      <th>0</th>\n",
       "      <td>2020348</td>\n",
       "      <td>2020</td>\n",
       "      <td>9/13/2021</td>\n",
       "      <td>Ansonia</td>\n",
       "      <td>150500</td>\n",
       "      <td>325000.0</td>\n",
       "      <td>0.4630</td>\n",
       "      <td>Commercial</td>\n",
       "      <td>Nan</td>\n",
       "      <td>1</td>\n",
       "    </tr>\n",
       "    <tr>\n",
       "      <th>1</th>\n",
       "      <td>20002</td>\n",
       "      <td>2020</td>\n",
       "      <td>10/02/2020</td>\n",
       "      <td>Ashford</td>\n",
       "      <td>253000</td>\n",
       "      <td>430000.0</td>\n",
       "      <td>0.5883</td>\n",
       "      <td>Residential</td>\n",
       "      <td>Single Family</td>\n",
       "      <td>0</td>\n",
       "    </tr>\n",
       "    <tr>\n",
       "      <th>2</th>\n",
       "      <td>200212</td>\n",
       "      <td>2020</td>\n",
       "      <td>03/09/2021</td>\n",
       "      <td>Avon</td>\n",
       "      <td>130400</td>\n",
       "      <td>179900.0</td>\n",
       "      <td>0.7248</td>\n",
       "      <td>Residential</td>\n",
       "      <td>Condo</td>\n",
       "      <td>1</td>\n",
       "    </tr>\n",
       "    <tr>\n",
       "      <th>3</th>\n",
       "      <td>200243</td>\n",
       "      <td>2020</td>\n",
       "      <td>4/13/2021</td>\n",
       "      <td>Avon</td>\n",
       "      <td>619290</td>\n",
       "      <td>890000.0</td>\n",
       "      <td>0.6958</td>\n",
       "      <td>Residential</td>\n",
       "      <td>Single Family</td>\n",
       "      <td>1</td>\n",
       "    </tr>\n",
       "    <tr>\n",
       "      <th>4</th>\n",
       "      <td>200377</td>\n",
       "      <td>2020</td>\n",
       "      <td>07/02/2021</td>\n",
       "      <td>Avon</td>\n",
       "      <td>862330</td>\n",
       "      <td>1447500.0</td>\n",
       "      <td>0.5957</td>\n",
       "      <td>Residential</td>\n",
       "      <td>Single Family</td>\n",
       "      <td>1</td>\n",
       "    </tr>\n",
       "  </tbody>\n",
       "</table>\n",
       "</div>"
      ],
      "text/plain": [
       "   Serial Number  List Year Date Recorded     Town  Assessed Value  \\\n",
       "0        2020348       2020     9/13/2021  Ansonia          150500   \n",
       "1          20002       2020    10/02/2020  Ashford          253000   \n",
       "2         200212       2020    03/09/2021     Avon          130400   \n",
       "3         200243       2020     4/13/2021     Avon          619290   \n",
       "4         200377       2020    07/02/2021     Avon          862330   \n",
       "\n",
       "   Sale Amount  Sales Ratio Property Type Residential Type  Years until sold  \n",
       "0     325000.0       0.4630    Commercial              Nan                 1  \n",
       "1     430000.0       0.5883   Residential    Single Family                 0  \n",
       "2     179900.0       0.7248   Residential            Condo                 1  \n",
       "3     890000.0       0.6958   Residential    Single Family                 1  \n",
       "4    1447500.0       0.5957   Residential    Single Family                 1  "
      ]
     },
     "execution_count": 3,
     "metadata": {},
     "output_type": "execute_result"
    }
   ],
   "source": [
    "est.head()"
   ]
  },
  {
   "cell_type": "code",
   "execution_count": 4,
   "id": "a653286b-ac27-44d6-a3ad-4df756cc712b",
   "metadata": {},
   "outputs": [
    {
     "data": {
      "text/html": [
       "<div>\n",
       "<style scoped>\n",
       "    .dataframe tbody tr th:only-of-type {\n",
       "        vertical-align: middle;\n",
       "    }\n",
       "\n",
       "    .dataframe tbody tr th {\n",
       "        vertical-align: top;\n",
       "    }\n",
       "\n",
       "    .dataframe thead th {\n",
       "        text-align: right;\n",
       "    }\n",
       "</style>\n",
       "<table border=\"1\" class=\"dataframe\">\n",
       "  <thead>\n",
       "    <tr style=\"text-align: right;\">\n",
       "      <th></th>\n",
       "      <th>Serial Number</th>\n",
       "      <th>List Year</th>\n",
       "      <th>Assessed Value</th>\n",
       "      <th>Sale Amount</th>\n",
       "      <th>Sales Ratio</th>\n",
       "      <th>Years until sold</th>\n",
       "    </tr>\n",
       "  </thead>\n",
       "  <tbody>\n",
       "    <tr>\n",
       "      <th>count</th>\n",
       "      <td>9.972130e+05</td>\n",
       "      <td>997213.000000</td>\n",
       "      <td>9.972130e+05</td>\n",
       "      <td>9.972130e+05</td>\n",
       "      <td>9.972130e+05</td>\n",
       "      <td>997213.000000</td>\n",
       "    </tr>\n",
       "    <tr>\n",
       "      <th>mean</th>\n",
       "      <td>4.311864e+05</td>\n",
       "      <td>2010.189829</td>\n",
       "      <td>2.791437e+05</td>\n",
       "      <td>3.911512e+05</td>\n",
       "      <td>1.044637e+01</td>\n",
       "      <td>0.750900</td>\n",
       "    </tr>\n",
       "    <tr>\n",
       "      <th>std</th>\n",
       "      <td>6.549219e+06</td>\n",
       "      <td>6.237877</td>\n",
       "      <td>1.670610e+06</td>\n",
       "      <td>5.347270e+06</td>\n",
       "      <td>1.890192e+03</td>\n",
       "      <td>0.434742</td>\n",
       "    </tr>\n",
       "    <tr>\n",
       "      <th>min</th>\n",
       "      <td>0.000000e+00</td>\n",
       "      <td>2001.000000</td>\n",
       "      <td>0.000000e+00</td>\n",
       "      <td>0.000000e+00</td>\n",
       "      <td>0.000000e+00</td>\n",
       "      <td>-18.000000</td>\n",
       "    </tr>\n",
       "    <tr>\n",
       "      <th>25%</th>\n",
       "      <td>3.044400e+04</td>\n",
       "      <td>2004.000000</td>\n",
       "      <td>8.760000e+04</td>\n",
       "      <td>1.400000e+05</td>\n",
       "      <td>4.867000e-01</td>\n",
       "      <td>1.000000</td>\n",
       "    </tr>\n",
       "    <tr>\n",
       "      <th>50%</th>\n",
       "      <td>7.030300e+04</td>\n",
       "      <td>2010.000000</td>\n",
       "      <td>1.383900e+05</td>\n",
       "      <td>2.250000e+05</td>\n",
       "      <td>6.246000e-01</td>\n",
       "      <td>1.000000</td>\n",
       "    </tr>\n",
       "    <tr>\n",
       "      <th>75%</th>\n",
       "      <td>1.518780e+05</td>\n",
       "      <td>2016.000000</td>\n",
       "      <td>2.255600e+05</td>\n",
       "      <td>3.650000e+05</td>\n",
       "      <td>7.852761e-01</td>\n",
       "      <td>1.000000</td>\n",
       "    </tr>\n",
       "    <tr>\n",
       "      <th>max</th>\n",
       "      <td>2.000500e+09</td>\n",
       "      <td>2020.000000</td>\n",
       "      <td>8.815100e+08</td>\n",
       "      <td>5.000000e+09</td>\n",
       "      <td>1.226420e+06</td>\n",
       "      <td>4.000000</td>\n",
       "    </tr>\n",
       "  </tbody>\n",
       "</table>\n",
       "</div>"
      ],
      "text/plain": [
       "       Serial Number      List Year  Assessed Value   Sale Amount  \\\n",
       "count   9.972130e+05  997213.000000    9.972130e+05  9.972130e+05   \n",
       "mean    4.311864e+05    2010.189829    2.791437e+05  3.911512e+05   \n",
       "std     6.549219e+06       6.237877    1.670610e+06  5.347270e+06   \n",
       "min     0.000000e+00    2001.000000    0.000000e+00  0.000000e+00   \n",
       "25%     3.044400e+04    2004.000000    8.760000e+04  1.400000e+05   \n",
       "50%     7.030300e+04    2010.000000    1.383900e+05  2.250000e+05   \n",
       "75%     1.518780e+05    2016.000000    2.255600e+05  3.650000e+05   \n",
       "max     2.000500e+09    2020.000000    8.815100e+08  5.000000e+09   \n",
       "\n",
       "        Sales Ratio  Years until sold  \n",
       "count  9.972130e+05     997213.000000  \n",
       "mean   1.044637e+01          0.750900  \n",
       "std    1.890192e+03          0.434742  \n",
       "min    0.000000e+00        -18.000000  \n",
       "25%    4.867000e-01          1.000000  \n",
       "50%    6.246000e-01          1.000000  \n",
       "75%    7.852761e-01          1.000000  \n",
       "max    1.226420e+06          4.000000  "
      ]
     },
     "execution_count": 4,
     "metadata": {},
     "output_type": "execute_result"
    }
   ],
   "source": [
    "est.describe()"
   ]
  },
  {
   "cell_type": "code",
   "execution_count": 5,
   "id": "555c0d3e-9056-41c3-8ed4-876040f57fc1",
   "metadata": {},
   "outputs": [
    {
     "name": "stdout",
     "output_type": "stream",
     "text": [
      "<class 'pandas.core.frame.DataFrame'>\n",
      "RangeIndex: 997213 entries, 0 to 997212\n",
      "Data columns (total 10 columns):\n",
      " #   Column            Non-Null Count   Dtype  \n",
      "---  ------            --------------   -----  \n",
      " 0   Serial Number     997213 non-null  int64  \n",
      " 1   List Year         997213 non-null  int64  \n",
      " 2   Date Recorded     997213 non-null  object \n",
      " 3   Town              997213 non-null  object \n",
      " 4   Assessed Value    997213 non-null  int64  \n",
      " 5   Sale Amount       997213 non-null  float64\n",
      " 6   Sales Ratio       997213 non-null  float64\n",
      " 7   Property Type     997213 non-null  object \n",
      " 8   Residential Type  997213 non-null  object \n",
      " 9   Years until sold  997213 non-null  int64  \n",
      "dtypes: float64(2), int64(4), object(4)\n",
      "memory usage: 76.1+ MB\n"
     ]
    }
   ],
   "source": [
    "est.info()"
   ]
  },
  {
   "cell_type": "markdown",
   "id": "e60edb94-4d61-47ec-a772-9718fcccbe59",
   "metadata": {},
   "source": [
    "REPLACING NaN VALUES TREATED AS A STRING INSTEAD OF BEING TREATED AS A MISSING VALUE IN BOTH PROPERTY TYPE AND RESIDENTIAL TYPE COLUMNS"
   ]
  },
  {
   "cell_type": "code",
   "execution_count": 6,
   "id": "786b27aa-0905-4eed-a650-01b889bf1983",
   "metadata": {},
   "outputs": [
    {
     "data": {
      "text/plain": [
       "array(['Commercial', 'Residential', 'Vacant Land', 'Nan', 'Apartments',\n",
       "       'Industrial', 'Public Utility', 'Condo', 'Two Family',\n",
       "       'Three Family', 'Single Family', 'Four Family'], dtype=object)"
      ]
     },
     "execution_count": 6,
     "metadata": {},
     "output_type": "execute_result"
    }
   ],
   "source": [
    "est['Property Type'].unique()"
   ]
  },
  {
   "cell_type": "code",
   "execution_count": 7,
   "id": "0c7d570a-ff47-46c0-a093-8cfa8c0eb6e8",
   "metadata": {},
   "outputs": [
    {
     "data": {
      "text/plain": [
       "1981"
      ]
     },
     "execution_count": 7,
     "metadata": {},
     "output_type": "execute_result"
    }
   ],
   "source": [
    "est[est['Property Type'] == 'Commercial'].shape[0]"
   ]
  },
  {
   "cell_type": "code",
   "execution_count": 8,
   "id": "77b42f05-a6a1-4b9c-9ff7-4dcc9449b27d",
   "metadata": {},
   "outputs": [
    {
     "data": {
      "text/plain": [
       "Property Type\n",
       "Single Family     401612\n",
       "Nan               382446\n",
       "Condo             105420\n",
       "Residential        60728\n",
       "Two Family         26408\n",
       "Three Family       12586\n",
       "Vacant Land         3163\n",
       "Four Family         2150\n",
       "Commercial          1981\n",
       "Apartments           486\n",
       "Industrial           228\n",
       "Public Utility         5\n",
       "Name: count, dtype: int64"
      ]
     },
     "execution_count": 8,
     "metadata": {},
     "output_type": "execute_result"
    }
   ],
   "source": [
    "est['Property Type'].value_counts()"
   ]
  },
  {
   "cell_type": "code",
   "execution_count": 9,
   "id": "1c90a823-c328-44af-939d-32740b8f246c",
   "metadata": {},
   "outputs": [],
   "source": [
    "est['Property Type']=est['Property Type'].replace('Nan','Other')"
   ]
  },
  {
   "cell_type": "code",
   "execution_count": 10,
   "id": "2949cdba-ad00-4820-8947-3a4438fd921f",
   "metadata": {},
   "outputs": [
    {
     "data": {
      "text/plain": [
       "Property Type\n",
       "Single Family     401612\n",
       "Other             382446\n",
       "Condo             105420\n",
       "Residential        60728\n",
       "Two Family         26408\n",
       "Three Family       12586\n",
       "Vacant Land         3163\n",
       "Four Family         2150\n",
       "Commercial          1981\n",
       "Apartments           486\n",
       "Industrial           228\n",
       "Public Utility         5\n",
       "Name: count, dtype: int64"
      ]
     },
     "execution_count": 10,
     "metadata": {},
     "output_type": "execute_result"
    }
   ],
   "source": [
    "est['Property Type'].value_counts()"
   ]
  },
  {
   "cell_type": "code",
   "execution_count": 11,
   "id": "f8213191-525f-4997-a8c3-ac7255fe1fff",
   "metadata": {},
   "outputs": [
    {
     "data": {
      "text/plain": [
       "array(['Nan', 'Single Family', 'Condo', 'Two Family', 'Three Family',\n",
       "       'Four Family'], dtype=object)"
      ]
     },
     "execution_count": 11,
     "metadata": {},
     "output_type": "execute_result"
    }
   ],
   "source": [
    "est['Residential Type'].unique()"
   ]
  },
  {
   "cell_type": "code",
   "execution_count": 12,
   "id": "92861f45-9cc1-48c8-8e04-35d782861952",
   "metadata": {},
   "outputs": [
    {
     "data": {
      "text/plain": [
       "Residential Type\n",
       "Single Family    445016\n",
       "Nan              388309\n",
       "Condo            117780\n",
       "Two Family        29609\n",
       "Three Family      14081\n",
       "Four Family        2418\n",
       "Name: count, dtype: int64"
      ]
     },
     "execution_count": 12,
     "metadata": {},
     "output_type": "execute_result"
    }
   ],
   "source": [
    "est['Residential Type'].value_counts()"
   ]
  },
  {
   "cell_type": "code",
   "execution_count": 13,
   "id": "a480bfda-c314-4170-99c6-0744aad3c379",
   "metadata": {},
   "outputs": [],
   "source": [
    "est['Residential Type']=est['Residential Type'].replace('Nan','Other')"
   ]
  },
  {
   "cell_type": "code",
   "execution_count": 14,
   "id": "caedd17b-991d-474b-9fba-1f67bcfef38f",
   "metadata": {},
   "outputs": [
    {
     "data": {
      "text/plain": [
       "Residential Type\n",
       "Single Family    445016\n",
       "Other            388309\n",
       "Condo            117780\n",
       "Two Family        29609\n",
       "Three Family      14081\n",
       "Four Family        2418\n",
       "Name: count, dtype: int64"
      ]
     },
     "execution_count": 14,
     "metadata": {},
     "output_type": "execute_result"
    }
   ],
   "source": [
    "est['Residential Type'].value_counts()"
   ]
  },
  {
   "cell_type": "markdown",
   "id": "4e1eee09-f786-4ab7-9127-41422d05a0f8",
   "metadata": {},
   "source": [
    "WORKING ON THE DATETIME FORMATS"
   ]
  },
  {
   "cell_type": "code",
   "execution_count": 15,
   "id": "d0d2df02-736b-4b93-9137-43a8f347729a",
   "metadata": {},
   "outputs": [
    {
     "data": {
      "text/plain": [
       "0          9/13/2021\n",
       "1         10/02/2020\n",
       "2         03/09/2021\n",
       "3          4/13/2021\n",
       "4         07/02/2021\n",
       "             ...    \n",
       "997208     6/24/2020\n",
       "997209    11/27/2019\n",
       "997210     4/27/2020\n",
       "997211    06/03/2020\n",
       "997212    12/20/2019\n",
       "Name: Date Recorded, Length: 997213, dtype: object"
      ]
     },
     "execution_count": 15,
     "metadata": {},
     "output_type": "execute_result"
    }
   ],
   "source": [
    "est['Date Recorded']"
   ]
  },
  {
   "cell_type": "code",
   "execution_count": 16,
   "id": "8ffaec10-53cf-4d59-87de-d71a125823f4",
   "metadata": {},
   "outputs": [],
   "source": [
    "est['Date Recorded']=pd.to_datetime(est['Date Recorded'])"
   ]
  },
  {
   "cell_type": "code",
   "execution_count": 17,
   "id": "9f1dd862-2ef7-4fc6-b37c-b197fe198852",
   "metadata": {},
   "outputs": [],
   "source": [
    "est['List Year']=pd.to_datetime(est['List Year'],format='%Y').dt.year"
   ]
  },
  {
   "cell_type": "code",
   "execution_count": 18,
   "id": "7b424cd9-4e40-4c53-b80a-018efa1a7391",
   "metadata": {},
   "outputs": [
    {
     "data": {
      "text/plain": [
       "Serial Number                int64\n",
       "List Year                    int32\n",
       "Date Recorded       datetime64[ns]\n",
       "Town                        object\n",
       "Assessed Value               int64\n",
       "Sale Amount                float64\n",
       "Sales Ratio                float64\n",
       "Property Type               object\n",
       "Residential Type            object\n",
       "Years until sold             int64\n",
       "dtype: object"
      ]
     },
     "execution_count": 18,
     "metadata": {},
     "output_type": "execute_result"
    }
   ],
   "source": [
    "est.dtypes"
   ]
  },
  {
   "cell_type": "code",
   "execution_count": 19,
   "id": "271e0cb2-8e1e-479f-aeed-b94088d319f3",
   "metadata": {},
   "outputs": [
    {
     "name": "stdout",
     "output_type": "stream",
     "text": [
      "<class 'pandas.core.frame.DataFrame'>\n",
      "RangeIndex: 997213 entries, 0 to 997212\n",
      "Data columns (total 10 columns):\n",
      " #   Column            Non-Null Count   Dtype         \n",
      "---  ------            --------------   -----         \n",
      " 0   Serial Number     997213 non-null  int64         \n",
      " 1   List Year         997213 non-null  int32         \n",
      " 2   Date Recorded     997213 non-null  datetime64[ns]\n",
      " 3   Town              997213 non-null  object        \n",
      " 4   Assessed Value    997213 non-null  int64         \n",
      " 5   Sale Amount       997213 non-null  float64       \n",
      " 6   Sales Ratio       997213 non-null  float64       \n",
      " 7   Property Type     997213 non-null  object        \n",
      " 8   Residential Type  997213 non-null  object        \n",
      " 9   Years until sold  997213 non-null  int64         \n",
      "dtypes: datetime64[ns](1), float64(2), int32(1), int64(3), object(3)\n",
      "memory usage: 72.3+ MB\n"
     ]
    }
   ],
   "source": [
    "est.info()"
   ]
  },
  {
   "cell_type": "code",
   "execution_count": 20,
   "id": "bf62cf8c-199b-47a8-bb13-d27936465124",
   "metadata": {},
   "outputs": [
    {
     "data": {
      "text/plain": [
       "0         0.463000\n",
       "1         0.588300\n",
       "2         0.724800\n",
       "3         0.695800\n",
       "4         0.595700\n",
       "            ...   \n",
       "997208    1.137665\n",
       "997209    0.898400\n",
       "997210    0.578300\n",
       "997211    0.726300\n",
       "997212    0.541700\n",
       "Name: Sales Ratio, Length: 997213, dtype: float64"
      ]
     },
     "execution_count": 20,
     "metadata": {},
     "output_type": "execute_result"
    }
   ],
   "source": [
    "est['Sales Ratio']"
   ]
  },
  {
   "cell_type": "code",
   "execution_count": 21,
   "id": "2564be22-84ff-405b-a21c-7cdcf6f09c4c",
   "metadata": {},
   "outputs": [],
   "source": [
    "est['Calculated Sales Ratio']=est['Sale Amount']/est['Assessed Value']"
   ]
  },
  {
   "cell_type": "code",
   "execution_count": 22,
   "id": "20570716-9ec1-417e-a5c5-d42369e1c9d3",
   "metadata": {},
   "outputs": [
    {
     "data": {
      "text/html": [
       "<div>\n",
       "<style scoped>\n",
       "    .dataframe tbody tr th:only-of-type {\n",
       "        vertical-align: middle;\n",
       "    }\n",
       "\n",
       "    .dataframe tbody tr th {\n",
       "        vertical-align: top;\n",
       "    }\n",
       "\n",
       "    .dataframe thead th {\n",
       "        text-align: right;\n",
       "    }\n",
       "</style>\n",
       "<table border=\"1\" class=\"dataframe\">\n",
       "  <thead>\n",
       "    <tr style=\"text-align: right;\">\n",
       "      <th></th>\n",
       "      <th>Serial Number</th>\n",
       "      <th>List Year</th>\n",
       "      <th>Date Recorded</th>\n",
       "      <th>Town</th>\n",
       "      <th>Assessed Value</th>\n",
       "      <th>Sale Amount</th>\n",
       "      <th>Sales Ratio</th>\n",
       "      <th>Property Type</th>\n",
       "      <th>Residential Type</th>\n",
       "      <th>Years until sold</th>\n",
       "      <th>Calculated Sales Ratio</th>\n",
       "    </tr>\n",
       "  </thead>\n",
       "  <tbody>\n",
       "    <tr>\n",
       "      <th>0</th>\n",
       "      <td>2020348</td>\n",
       "      <td>2020</td>\n",
       "      <td>2021-09-13</td>\n",
       "      <td>Ansonia</td>\n",
       "      <td>150500</td>\n",
       "      <td>325000.0</td>\n",
       "      <td>0.4630</td>\n",
       "      <td>Commercial</td>\n",
       "      <td>Other</td>\n",
       "      <td>1</td>\n",
       "      <td>2.159468</td>\n",
       "    </tr>\n",
       "    <tr>\n",
       "      <th>1</th>\n",
       "      <td>20002</td>\n",
       "      <td>2020</td>\n",
       "      <td>2020-10-02</td>\n",
       "      <td>Ashford</td>\n",
       "      <td>253000</td>\n",
       "      <td>430000.0</td>\n",
       "      <td>0.5883</td>\n",
       "      <td>Residential</td>\n",
       "      <td>Single Family</td>\n",
       "      <td>0</td>\n",
       "      <td>1.699605</td>\n",
       "    </tr>\n",
       "    <tr>\n",
       "      <th>2</th>\n",
       "      <td>200212</td>\n",
       "      <td>2020</td>\n",
       "      <td>2021-03-09</td>\n",
       "      <td>Avon</td>\n",
       "      <td>130400</td>\n",
       "      <td>179900.0</td>\n",
       "      <td>0.7248</td>\n",
       "      <td>Residential</td>\n",
       "      <td>Condo</td>\n",
       "      <td>1</td>\n",
       "      <td>1.379601</td>\n",
       "    </tr>\n",
       "    <tr>\n",
       "      <th>3</th>\n",
       "      <td>200243</td>\n",
       "      <td>2020</td>\n",
       "      <td>2021-04-13</td>\n",
       "      <td>Avon</td>\n",
       "      <td>619290</td>\n",
       "      <td>890000.0</td>\n",
       "      <td>0.6958</td>\n",
       "      <td>Residential</td>\n",
       "      <td>Single Family</td>\n",
       "      <td>1</td>\n",
       "      <td>1.437130</td>\n",
       "    </tr>\n",
       "    <tr>\n",
       "      <th>4</th>\n",
       "      <td>200377</td>\n",
       "      <td>2020</td>\n",
       "      <td>2021-07-02</td>\n",
       "      <td>Avon</td>\n",
       "      <td>862330</td>\n",
       "      <td>1447500.0</td>\n",
       "      <td>0.5957</td>\n",
       "      <td>Residential</td>\n",
       "      <td>Single Family</td>\n",
       "      <td>1</td>\n",
       "      <td>1.678592</td>\n",
       "    </tr>\n",
       "  </tbody>\n",
       "</table>\n",
       "</div>"
      ],
      "text/plain": [
       "   Serial Number  List Year Date Recorded     Town  Assessed Value  \\\n",
       "0        2020348       2020    2021-09-13  Ansonia          150500   \n",
       "1          20002       2020    2020-10-02  Ashford          253000   \n",
       "2         200212       2020    2021-03-09     Avon          130400   \n",
       "3         200243       2020    2021-04-13     Avon          619290   \n",
       "4         200377       2020    2021-07-02     Avon          862330   \n",
       "\n",
       "   Sale Amount  Sales Ratio Property Type Residential Type  Years until sold  \\\n",
       "0     325000.0       0.4630    Commercial            Other                 1   \n",
       "1     430000.0       0.5883   Residential    Single Family                 0   \n",
       "2     179900.0       0.7248   Residential            Condo                 1   \n",
       "3     890000.0       0.6958   Residential    Single Family                 1   \n",
       "4    1447500.0       0.5957   Residential    Single Family                 1   \n",
       "\n",
       "   Calculated Sales Ratio  \n",
       "0                2.159468  \n",
       "1                1.699605  \n",
       "2                1.379601  \n",
       "3                1.437130  \n",
       "4                1.678592  "
      ]
     },
     "execution_count": 22,
     "metadata": {},
     "output_type": "execute_result"
    }
   ],
   "source": [
    "est.head()"
   ]
  },
  {
   "cell_type": "code",
   "execution_count": 23,
   "id": "5cefb2ac-c73d-426d-8e63-cd6981ef9c46",
   "metadata": {},
   "outputs": [],
   "source": [
    "del est['Calculated Sales Ratio']"
   ]
  },
  {
   "cell_type": "code",
   "execution_count": 24,
   "id": "57246762-e7ff-470d-9d56-b6f7844ad786",
   "metadata": {},
   "outputs": [
    {
     "data": {
      "text/html": [
       "<div>\n",
       "<style scoped>\n",
       "    .dataframe tbody tr th:only-of-type {\n",
       "        vertical-align: middle;\n",
       "    }\n",
       "\n",
       "    .dataframe tbody tr th {\n",
       "        vertical-align: top;\n",
       "    }\n",
       "\n",
       "    .dataframe thead th {\n",
       "        text-align: right;\n",
       "    }\n",
       "</style>\n",
       "<table border=\"1\" class=\"dataframe\">\n",
       "  <thead>\n",
       "    <tr style=\"text-align: right;\">\n",
       "      <th></th>\n",
       "      <th>Serial Number</th>\n",
       "      <th>List Year</th>\n",
       "      <th>Date Recorded</th>\n",
       "      <th>Town</th>\n",
       "      <th>Assessed Value</th>\n",
       "      <th>Sale Amount</th>\n",
       "      <th>Sales Ratio</th>\n",
       "      <th>Property Type</th>\n",
       "      <th>Residential Type</th>\n",
       "      <th>Years until sold</th>\n",
       "    </tr>\n",
       "  </thead>\n",
       "  <tbody>\n",
       "    <tr>\n",
       "      <th>0</th>\n",
       "      <td>2020348</td>\n",
       "      <td>2020</td>\n",
       "      <td>2021-09-13</td>\n",
       "      <td>Ansonia</td>\n",
       "      <td>150500</td>\n",
       "      <td>325000.0</td>\n",
       "      <td>0.4630</td>\n",
       "      <td>Commercial</td>\n",
       "      <td>Other</td>\n",
       "      <td>1</td>\n",
       "    </tr>\n",
       "    <tr>\n",
       "      <th>1</th>\n",
       "      <td>20002</td>\n",
       "      <td>2020</td>\n",
       "      <td>2020-10-02</td>\n",
       "      <td>Ashford</td>\n",
       "      <td>253000</td>\n",
       "      <td>430000.0</td>\n",
       "      <td>0.5883</td>\n",
       "      <td>Residential</td>\n",
       "      <td>Single Family</td>\n",
       "      <td>0</td>\n",
       "    </tr>\n",
       "    <tr>\n",
       "      <th>2</th>\n",
       "      <td>200212</td>\n",
       "      <td>2020</td>\n",
       "      <td>2021-03-09</td>\n",
       "      <td>Avon</td>\n",
       "      <td>130400</td>\n",
       "      <td>179900.0</td>\n",
       "      <td>0.7248</td>\n",
       "      <td>Residential</td>\n",
       "      <td>Condo</td>\n",
       "      <td>1</td>\n",
       "    </tr>\n",
       "    <tr>\n",
       "      <th>3</th>\n",
       "      <td>200243</td>\n",
       "      <td>2020</td>\n",
       "      <td>2021-04-13</td>\n",
       "      <td>Avon</td>\n",
       "      <td>619290</td>\n",
       "      <td>890000.0</td>\n",
       "      <td>0.6958</td>\n",
       "      <td>Residential</td>\n",
       "      <td>Single Family</td>\n",
       "      <td>1</td>\n",
       "    </tr>\n",
       "    <tr>\n",
       "      <th>4</th>\n",
       "      <td>200377</td>\n",
       "      <td>2020</td>\n",
       "      <td>2021-07-02</td>\n",
       "      <td>Avon</td>\n",
       "      <td>862330</td>\n",
       "      <td>1447500.0</td>\n",
       "      <td>0.5957</td>\n",
       "      <td>Residential</td>\n",
       "      <td>Single Family</td>\n",
       "      <td>1</td>\n",
       "    </tr>\n",
       "  </tbody>\n",
       "</table>\n",
       "</div>"
      ],
      "text/plain": [
       "   Serial Number  List Year Date Recorded     Town  Assessed Value  \\\n",
       "0        2020348       2020    2021-09-13  Ansonia          150500   \n",
       "1          20002       2020    2020-10-02  Ashford          253000   \n",
       "2         200212       2020    2021-03-09     Avon          130400   \n",
       "3         200243       2020    2021-04-13     Avon          619290   \n",
       "4         200377       2020    2021-07-02     Avon          862330   \n",
       "\n",
       "   Sale Amount  Sales Ratio Property Type Residential Type  Years until sold  \n",
       "0     325000.0       0.4630    Commercial            Other                 1  \n",
       "1     430000.0       0.5883   Residential    Single Family                 0  \n",
       "2     179900.0       0.7248   Residential            Condo                 1  \n",
       "3     890000.0       0.6958   Residential    Single Family                 1  \n",
       "4    1447500.0       0.5957   Residential    Single Family                 1  "
      ]
     },
     "execution_count": 24,
     "metadata": {},
     "output_type": "execute_result"
    }
   ],
   "source": [
    "est.head()"
   ]
  },
  {
   "cell_type": "markdown",
   "id": "56ac2258-6129-4f50-bf9d-d2b8480cc055",
   "metadata": {},
   "source": [
    "AVERAGE ASSESSED VALUE, SALES AMOUNT AND SALES RATIO BY YEAR"
   ]
  },
  {
   "cell_type": "code",
   "execution_count": 25,
   "id": "9bdda3f7-9f48-412f-8bc9-865e336f0d5d",
   "metadata": {},
   "outputs": [],
   "source": [
    "avg_by_year=est.groupby('List Year').agg({'Assessed Value':'mean',\n",
    "                                          'Sale Amount':'mean',\n",
    "                                          'Sales Ratio':'mean'}).reset_index()"
   ]
  },
  {
   "cell_type": "code",
   "execution_count": 26,
   "id": "0a1eaeb0-5444-4f6e-99f5-64b27a89cf28",
   "metadata": {},
   "outputs": [
    {
     "name": "stdout",
     "output_type": "stream",
     "text": [
      "    List Year  Assessed Value    Sale Amount  Sales Ratio\n",
      "0        2001   138961.045482  246235.035160     3.506386\n",
      "1        2002   177434.080594  296357.123706     4.087334\n",
      "2        2003   188067.638755  327217.932922     5.340675\n",
      "3        2004   214266.720175  380297.014169     9.222742\n",
      "4        2005   198067.146424  364030.126084    76.009086\n",
      "5        2006   338248.086912  475379.225385    52.069576\n",
      "6        2007   334548.775079  435713.379734     2.113330\n",
      "7        2008   292110.829388  325831.792393     1.603672\n",
      "8        2009   338422.314482  355250.327162     2.269027\n",
      "9        2010   307099.145621  331657.472575     2.435234\n",
      "10       2011   412067.636279  391684.320747     2.738944\n",
      "11       2012   356468.186279  395477.676013     2.143659\n",
      "12       2013   336146.203891  413516.239641     2.415508\n",
      "13       2014   307782.171116  401421.941220     1.673331\n",
      "14       2015   300223.060792  345883.763949     3.943542\n",
      "15       2016   323196.232958  507761.249272     1.786716\n",
      "16       2017   331720.028999  393251.314693     2.329452\n",
      "17       2018   300339.526218  383727.664935     9.351404\n",
      "18       2019   309314.686637  420296.971308     1.140670\n",
      "19       2020   323368.449258  604963.871051     0.831716\n"
     ]
    }
   ],
   "source": [
    "print(avg_by_year)"
   ]
  },
  {
   "cell_type": "code",
   "execution_count": 27,
   "id": "09221012-c582-42fc-8ffc-2d130cc2404b",
   "metadata": {},
   "outputs": [
    {
     "data": {
      "image/png": "[encoded data removed]",
      "text/plain": [
       "<Figure size 1000x600 with 1 Axes>"
      ]
     },
     "metadata": {},
     "output_type": "display_data"
    }
   ],
   "source": [
    "plt.figure(figsize=(10,6))\n",
    "sb.lineplot(data=avg_by_year,x='List Year', y='Assessed Value',label='Assessed Value')\n",
    "sb.lineplot(data=avg_by_year,x='List Year', y='Sale Amount', label='Sale Amount')\n",
    "plt.xticks(ticks=avg_by_year['List Year'].unique(),rotation=45)\n",
    "plt.legend()\n",
    "plt.title('Average Property Values Over Time')\n",
    "plt.show()"
   ]
  },
  {
   "cell_type": "markdown",
   "id": "04007469-f85b-4021-b0d4-5a5a7847add2",
   "metadata": {},
   "source": [
    "AVERAGE TIME UNTIL RESIDENTIAL AND PROPERTY TYPES GET SOLD"
   ]
  },
  {
   "cell_type": "code",
   "execution_count": 28,
   "id": "e92cb848-4b10-44d3-b6bd-2c8417dd11f6",
   "metadata": {},
   "outputs": [
    {
     "name": "stdout",
     "output_type": "stream",
     "text": [
      "     Property Type  Years until sold\n",
      "0       Apartments          0.818930\n",
      "1       Commercial          0.772337\n",
      "2            Condo          0.742079\n",
      "3      Four Family          0.729302\n",
      "4       Industrial          0.763158\n",
      "5            Other          0.756970\n",
      "6   Public Utility          0.800000\n",
      "7      Residential          0.723785\n",
      "8    Single Family          0.753140\n",
      "9     Three Family          0.734785\n",
      "10      Two Family          0.732770\n",
      "11     Vacant Land          0.752450\n",
      "  Residential Type  Years until sold\n",
      "0            Condo          0.742639\n",
      "1      Four Family          0.734491\n",
      "2            Other          0.757093\n",
      "3    Single Family          0.749274\n",
      "4     Three Family          0.736666\n",
      "5       Two Family          0.735081\n"
     ]
    }
   ],
   "source": [
    "avg_time_by_property_type=est.groupby('Property Type')['Years until sold'].mean().reset_index()\n",
    "avg_time_by_residential_type=est.groupby('Residential Type')['Years until sold'].mean().reset_index()\n",
    "print(avg_time_by_property_type)\n",
    "print(avg_time_by_residential_type)"
   ]
  },
  {
   "cell_type": "markdown",
   "id": "c59d37ca-76df-418f-849d-8fdfbdf1a6ed",
   "metadata": {},
   "source": [
    "TOWNS WITH THE MOST PROPERTY SALES IN 2021"
   ]
  },
  {
   "cell_type": "code",
   "execution_count": 29,
   "id": "0e9ba165-af43-4fbf-9b22-e76163bb5e44",
   "metadata": {},
   "outputs": [
    {
     "name": "stdout",
     "output_type": "stream",
     "text": [
      "Town\n",
      "Stamford         1981\n",
      "Waterbury        1753\n",
      "Norwalk          1427\n",
      "Greenwich        1333\n",
      "Danbury          1170\n",
      "New Haven        1065\n",
      "West Hartford    1043\n",
      "Bristol          1015\n",
      "Hartford          980\n",
      "Stratford         965\n",
      "Name: count, dtype: int64\n"
     ]
    }
   ],
   "source": [
    "sales_2021=est[est['Date Recorded'].dt.year==2021]\n",
    "town_sales_2021=sales_2021['Town'].value_counts().head(10)\n",
    "print(town_sales_2021)"
   ]
  },
  {
   "cell_type": "markdown",
   "id": "51448d8f-8747-4e3f-bd52-42291faf6d2e",
   "metadata": {},
   "source": [
    "SOME EXPLORATORY DATA ANALYSIS"
   ]
  },
  {
   "cell_type": "code",
   "execution_count": 30,
   "id": "d399b8c3-5e91-4e17-9f37-1fc0fb74b6f1",
   "metadata": {},
   "outputs": [
    {
     "data": {
      "image/png": "[encoded data removed]",
      "text/plain": [
       "<Figure size 640x480 with 2 Axes>"
      ]
     },
     "metadata": {},
     "output_type": "display_data"
    }
   ],
   "source": [
    "numeric_est = est.select_dtypes(include=['number'])\n",
    "correlation_matrix=numeric_est.corr()\n",
    "sb.heatmap(correlation_matrix, annot=True, cmap='coolwarm')\n",
    "plt.title(\"Correlation Matrix\")\n",
    "plt.show()"
   ]
  },
  {
   "cell_type": "code",
   "execution_count": 31,
   "id": "94ad1cca-e369-472b-8602-50f01a9f68d4",
   "metadata": {},
   "outputs": [],
   "source": [
    "est.to_csv('cleaned_real_estate_sales.csv', index=False)"
   ]
  }
 ],
 "metadata": {
  "kernelspec": {
   "display_name": "Python 3 (ipykernel)",
   "language": "python",
   "name": "python3"
  },
  "language_info": {
   "codemirror_mode": {
    "name": "ipython",
    "version": 3
   },
   "file_extension": ".py",
   "mimetype": "text/x-python",
   "name": "python",
   "nbconvert_exporter": "python",
   "pygments_lexer": "ipython3",
   "version": "3.12.4"
  }
 },
 "nbformat": 4,
 "nbformat_minor": 5
}
